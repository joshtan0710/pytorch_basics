{
  "nbformat": 4,
  "nbformat_minor": 0,
  "metadata": {
    "colab": {
      "name": "RNN from scratch in pytorch.ipynb",
      "provenance": [],
      "collapsed_sections": [],
      "authorship_tag": "ABX9TyPdKA4Ey+bjHk4gvUDeMPXD",
      "include_colab_link": true
    },
    "kernelspec": {
      "name": "python3",
      "display_name": "Python 3"
    },
    "language_info": {
      "name": "python"
    },
    "accelerator": "GPU"
  },
  "cells": [
    {
      "cell_type": "markdown",
      "metadata": {
        "id": "view-in-github",
        "colab_type": "text"
      },
      "source": [
        "<a href=\"https://colab.research.google.com/github/joshtan0710/pytorch_basics/blob/main/RNN_from_scratch_in_pytorch.ipynb\" target=\"_parent\"><img src=\"https://colab.research.google.com/assets/colab-badge.svg\" alt=\"Open In Colab\"/></a>"
      ]
    },
    {
      "cell_type": "code",
      "metadata": {
        "id": "F3N6_DqEIqZU"
      },
      "source": [
        "import requests\n",
        "url = 'https://download.pytorch.org/tutorial/data.zip'\n",
        "data = requests.get(url)\n",
        "with open(\"text.zip\", \"wb\") as code:\n",
        "    code.write(data.content)"
      ],
      "execution_count": null,
      "outputs": []
    },
    {
      "cell_type": "code",
      "metadata": {
        "id": "FxJMQKdUIzLk"
      },
      "source": [
        "import zipfile \n",
        "\n",
        "zip_ref = zipfile.ZipFile('/content/text.zip', 'r')\n",
        "zip_ref.extractall()\n",
        "zip_ref.close()"
      ],
      "execution_count": null,
      "outputs": []
    },
    {
      "cell_type": "code",
      "metadata": {
        "colab": {
          "base_uri": "https://localhost:8080/"
        },
        "id": "jEEmwpIJI8CZ",
        "outputId": "8f3b39a2-c3b2-44fc-b941-b39a96bc8d10"
      },
      "source": [
        "from __future__ import unicode_literals, print_function, division\n",
        "from io import open\n",
        "import glob\n",
        "import os\n",
        "\n",
        "def findFiles(path): return glob.glob(path)\n",
        "\n",
        "print(findFiles('data/names/*.txt'))\n",
        "\n",
        "import unicodedata\n",
        "import string\n",
        "\n",
        "all_letters = string.ascii_letters + \" .,;'\"\n",
        "n_letters = len(all_letters)\n",
        "\n",
        "# Turn a Unicode string to plain ASCII, thanks to https://stackoverflow.com/a/518232/2809427\n",
        "def unicodeToAscii(s):\n",
        "    return ''.join(\n",
        "        c for c in unicodedata.normalize('NFD', s)\n",
        "        if unicodedata.category(c) != 'Mn'\n",
        "        and c in all_letters\n",
        "    )\n",
        "\n",
        "print(unicodeToAscii('Ślusàrski'))\n",
        "\n",
        "# Build the category_lines dictionary, a list of names per language\n",
        "category_lines = {}\n",
        "all_categories = []\n",
        "\n",
        "# Read a file and split into lines\n",
        "def readLines(filename):\n",
        "    lines = open(filename, encoding='utf-8').read().strip().split('\\n')\n",
        "    return [unicodeToAscii(line) for line in lines]\n",
        "\n",
        "for filename in findFiles('data/names/*.txt'):\n",
        "    category = os.path.splitext(os.path.basename(filename))[0]\n",
        "    all_categories.append(category)\n",
        "    lines = readLines(filename)\n",
        "    category_lines[category] = lines\n",
        "\n",
        "n_categories = len(all_categories)"
      ],
      "execution_count": null,
      "outputs": [
        {
          "output_type": "stream",
          "text": [
            "['data/names/Japanese.txt', 'data/names/Irish.txt', 'data/names/Arabic.txt', 'data/names/Vietnamese.txt', 'data/names/Portuguese.txt', 'data/names/Scottish.txt', 'data/names/Russian.txt', 'data/names/Korean.txt', 'data/names/Italian.txt', 'data/names/Spanish.txt', 'data/names/Chinese.txt', 'data/names/English.txt', 'data/names/German.txt', 'data/names/French.txt', 'data/names/Polish.txt', 'data/names/Dutch.txt', 'data/names/Czech.txt', 'data/names/Greek.txt']\n",
            "Slusarski\n"
          ],
          "name": "stdout"
        }
      ]
    },
    {
      "cell_type": "code",
      "metadata": {
        "id": "3F8q7ApFI8ch"
      },
      "source": [
        "import torch\n",
        "\n",
        "# Find letter index from all_letters, e.g. \"a\" = 0\n",
        "def letterToIndex(letter):\n",
        "    return all_letters.find(letter)\n",
        "\n",
        "# Just for demonstration, turn a letter into a <1 x n_letters> Tensor\n",
        "def letterToTensor(letter):\n",
        "    tensor = torch.zeros(1, n_letters)\n",
        "    tensor[0][letterToIndex(letter)] = 1\n",
        "    return tensor\n",
        "\n",
        "# Turn a line into a <line_length x 1 x n_letters>,\n",
        "# or an array of one-hot letter vectors\n",
        "def lineToTensor(line):\n",
        "    tensor = torch.zeros(len(line), 1, n_letters)\n",
        "    for li, letter in enumerate(line):\n",
        "        tensor[li][0][letterToIndex(letter)] = 1\n",
        "    return tensor"
      ],
      "execution_count": null,
      "outputs": []
    },
    {
      "cell_type": "code",
      "metadata": {
        "id": "lX-ag8gbI_Rh"
      },
      "source": [
        "# Creating the model architecture\n",
        "\n",
        "import torch.nn as nn\n",
        "\n",
        "class RNN(nn.Module):\n",
        "    def __init__(self, input_size, hidden_size, output_size):\n",
        "        super(RNN, self).__init__()\n",
        "\n",
        "        self.hidden_size = hidden_size\n",
        "\n",
        "        self.i2h = nn.Linear(input_size + hidden_size, hidden_size)\n",
        "        self.i2o = nn.Linear(input_size + hidden_size, output_size)\n",
        "        self.softmax = nn.LogSoftmax(dim=1)\n",
        "\n",
        "    def forward(self, input, hidden):\n",
        "        combined = torch.cat((input, hidden), 1)\n",
        "        hidden = self.i2h(combined)\n",
        "        output = self.i2o(combined)\n",
        "        output = self.softmax(output)\n",
        "        return output, hidden\n",
        "\n",
        "    def initHidden(self):\n",
        "        return torch.zeros(1, self.hidden_size)\n",
        "\n",
        "n_hidden = 128\n",
        "rnn = RNN(n_letters, n_hidden, n_categories)"
      ],
      "execution_count": null,
      "outputs": []
    },
    {
      "cell_type": "code",
      "metadata": {
        "id": "0cmkWT3VLdZQ"
      },
      "source": [
        "# Setting Hyperparams\n",
        "\n",
        "criterion = nn.NLLLoss()\n",
        "learning_rate = 0.003\n",
        "optimizer = torch.optim.SGD(rnn.parameters(), lr = learning_rate)"
      ],
      "execution_count": null,
      "outputs": []
    },
    {
      "cell_type": "code",
      "metadata": {
        "id": "G4OmRp3dRp2a"
      },
      "source": [
        "def categoryFromOutput(output):\n",
        "    top_n, top_i = output.topk(1)\n",
        "    category_i = top_i[0].item()\n",
        "    return all_categories[category_i]"
      ],
      "execution_count": null,
      "outputs": []
    },
    {
      "cell_type": "code",
      "metadata": {
        "colab": {
          "base_uri": "https://localhost:8080/"
        },
        "id": "Vo0dD_TVRnv7",
        "outputId": "0c622c85-6223-455c-9abd-f656796af0ed"
      },
      "source": [
        "import random\n",
        "\n",
        "def randomChoice(l):\n",
        "    return l[random.randint(0, len(l) - 1)]\n",
        "\n",
        "def randomTrainingExample():\n",
        "    category = randomChoice(all_categories)\n",
        "    line = randomChoice(category_lines[category])\n",
        "    category_tensor = torch.tensor([all_categories.index(category)], dtype=torch.long)\n",
        "    line_tensor = lineToTensor(line)\n",
        "    return category, line, category_tensor, line_tensor\n",
        "\n",
        "for i in range(10):\n",
        "    category, line, category_tensor, line_tensor = randomTrainingExample()\n",
        "    print('category =', category, '/ line =', line)"
      ],
      "execution_count": null,
      "outputs": [
        {
          "output_type": "stream",
          "text": [
            "category = Polish / line = Poplawski\n",
            "category = Polish / line = Zdunowski\n",
            "category = Vietnamese / line = Luu\n",
            "category = German / line = Schroeter\n",
            "category = Scottish / line = Ross\n",
            "category = Spanish / line = Sanchez\n",
            "category = Polish / line = Janowski\n",
            "category = Greek / line = Geracimos\n",
            "category = Russian / line = Kachkaev\n",
            "category = Irish / line = O'Boyle\n"
          ],
          "name": "stdout"
        }
      ]
    },
    {
      "cell_type": "code",
      "metadata": {
        "id": "V2N4WppDMZaS"
      },
      "source": [
        "# training loop\n",
        "\n",
        "def train(input_tensor,category_tensor):\n",
        "  hidden = rnn.initHidden()\n",
        "\n",
        "  for i in range(len(input_tensor)):\n",
        "    output, hidden = rnn(input_tensor[i], hidden)\n",
        "\n",
        "  loss = criterion(output, category_tensor)\n",
        "\n",
        "  optimizer.zero_grad()\n",
        "  loss.backward()\n",
        "  optimizer.step()\n",
        "\n",
        "  return output, loss.item()\n",
        "\n"
      ],
      "execution_count": null,
      "outputs": []
    },
    {
      "cell_type": "code",
      "metadata": {
        "colab": {
          "base_uri": "https://localhost:8080/"
        },
        "id": "fY34b3xYNsNt",
        "outputId": "602d76ad-caff-45b4-9076-e520f697b77c"
      },
      "source": [
        "current_loss = 0 \n",
        "all_losses = []\n",
        "plot_steps, print_steps = 1000,5000\n",
        "n_iters = 100000\n",
        "\n",
        "for i in range(1,n_iters+1):\n",
        "  category, line, category_tensor, line_tensor = randomTrainingExample()\n",
        "  output, loss = train(line_tensor, category_tensor)\n",
        "  \n",
        "  current_loss += loss\n",
        "\n",
        "  if (i) % plot_steps == 0:\n",
        "    all_losses.append(current_loss/plot_steps)\n",
        "    current_loss = 0\n",
        "  \n",
        "  if i % print_steps == 0:\n",
        "    guess = categoryFromOutput(output)\n",
        "\n",
        "    # new if else syntax\n",
        "    correct = \"CORRECT\" if guess == category else f\"WRONG ({category})\"\n",
        "    print(f'Epoch {i}: {loss:.4f} {line} / {guess} {correct}')\n",
        "\n",
        "\n"
      ],
      "execution_count": null,
      "outputs": [
        {
          "output_type": "stream",
          "text": [
            "Epoch 5000: 0.6839 Close / Greek CORRECT\n",
            "Epoch 10000: 2.6250 Calligaris / Greek WRONG (Italian)\n",
            "Epoch 15000: 2.8119 Muir / Chinese WRONG (Scottish)\n",
            "Epoch 20000: 0.0981 Donndubhan / Irish CORRECT\n",
            "Epoch 25000: 5.5855 Castillion / Russian WRONG (Spanish)\n",
            "Epoch 30000: 0.1414 Mochan / Irish CORRECT\n",
            "Epoch 35000: 3.2788 King / Chinese WRONG (Scottish)\n",
            "Epoch 40000: 0.8284 Rinn / Irish CORRECT\n",
            "Epoch 45000: 2.2518 Tsang / Korean WRONG (Chinese)\n",
            "Epoch 50000: 0.0765 Malouf / Arabic CORRECT\n",
            "Epoch 55000: 0.1003 Voltolini / Italian CORRECT\n",
            "Epoch 60000: 3.0699 Unterbrink / Polish WRONG (German)\n",
            "Epoch 65000: 1.2948 Shi / Korean WRONG (Chinese)\n",
            "Epoch 70000: 1.0786 Holman / English CORRECT\n",
            "Epoch 75000: 0.5048 Fakhoury / Arabic CORRECT\n",
            "Epoch 80000: 0.1855 Strilakos / Greek CORRECT\n",
            "Epoch 85000: 1.4649 Giese / French WRONG (German)\n",
            "Epoch 90000: 0.0300 Warszawski / Polish CORRECT\n",
            "Epoch 95000: 2.3622 Huie / Scottish WRONG (Chinese)\n",
            "Epoch 100000: 0.6231 Hao / Chinese CORRECT\n"
          ],
          "name": "stdout"
        }
      ]
    },
    {
      "cell_type": "code",
      "metadata": {
        "colab": {
          "base_uri": "https://localhost:8080/",
          "height": 283
        },
        "id": "jiOi6dhWTcNF",
        "outputId": "edab19ae-7c75-420a-d426-381c269eda25"
      },
      "source": [
        "import matplotlib.pyplot as plt\n",
        "\n",
        "plt.figure()\n",
        "plt.plot(all_losses)"
      ],
      "execution_count": null,
      "outputs": [
        {
          "output_type": "execute_result",
          "data": {
            "text/plain": [
              "[<matplotlib.lines.Line2D at 0x7f2db4883a10>]"
            ]
          },
          "metadata": {
            "tags": []
          },
          "execution_count": 13
        },
        {
          "output_type": "display_data",
          "data": {
            "image/png": "[encoded data removed]",
            "text/plain": [
              "<Figure size 432x288 with 1 Axes>"
            ]
          },
          "metadata": {
            "tags": [],
            "needs_background": "light"
          }
        }
      ]
    },
    {
      "cell_type": "code",
      "metadata": {
        "id": "u9iYVbw1T-ta"
      },
      "source": [
        "# Running on User Input \n",
        "\n",
        "def predict(input_line, n_predictions = 2):\n",
        "  print(f\"\\n >{input_line}\")\n",
        "  with torch.no_grad():\n",
        "    input_tensor= lineToTensor(input_line)\n",
        "    hidden = rnn.initHidden()\n",
        "\n",
        "    for i in range(len(input_tensor)):\n",
        "      output, hidden = rnn(input_tensor[i], hidden)\n",
        "\n",
        "    guess = categoryFromOutput(output)\n",
        "    print(guess)\n"
      ],
      "execution_count": null,
      "outputs": []
    },
    {
      "cell_type": "code",
      "metadata": {
        "colab": {
          "base_uri": "https://localhost:8080/"
        },
        "id": "pLOJm5QBVUR6",
        "outputId": "ec547c9b-37d2-4616-d318-d657abd4d869"
      },
      "source": [
        "predict('Xiao Cai')"
      ],
      "execution_count": 25,
      "outputs": [
        {
          "output_type": "stream",
          "text": [
            "\n",
            " >Xiao Cai\n",
            "Japanese\n"
          ],
          "name": "stdout"
        }
      ]
    }
  ]
}