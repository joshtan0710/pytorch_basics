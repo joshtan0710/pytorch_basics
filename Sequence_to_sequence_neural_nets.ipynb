{
  "nbformat": 4,
  "nbformat_minor": 0,
  "metadata": {
    "colab": {
      "name": "RNN from scratch in pytorch.ipynb",
      "provenance": [],
      "collapsed_sections": [],
      "authorship_tag": "ABX9TyOFbDd7YJN2cG7v6G7IjVXy",
      "include_colab_link": true
    },
    "kernelspec": {
      "name": "python3",
      "display_name": "Python 3"
    },
    "language_info": {
      "name": "python"
    },
    "accelerator": "GPU"
  },
  "cells": [
    {
      "cell_type": "markdown",
      "metadata": {
        "id": "view-in-github",
        "colab_type": "text"
      },
      "source": [
        "<a href=\"https://colab.research.google.com/github/joshtan0710/pytorch_basics/blob/main/Sequence_to_sequence_neural_nets.ipynb\" target=\"_parent\"><img src=\"https://colab.research.google.com/assets/colab-badge.svg\" alt=\"Open In Colab\"/></a>"
      ]
    },
    {
      "cell_type": "markdown",
      "metadata": {
        "id": "qN16dsWzd7Rs"
      },
      "source": [
        "# Sequence to Sequence Neural Network in Pytorch "
      ]
    },
    {
      "cell_type": "code",
      "metadata": {
        "id": "F3N6_DqEIqZU"
      },
      "source": [
        "import requests\n",
        "url = 'https://download.pytorch.org/tutorial/data.zip'\n",
        "data = requests.get(url)\n",
        "with open(\"text.zip\", \"wb\") as code:\n",
        "    code.write(data.content)"
      ],
      "execution_count": 1,
      "outputs": []
    },
    {
      "cell_type": "code",
      "metadata": {
        "id": "FxJMQKdUIzLk"
      },
      "source": [
        "import zipfile \n",
        "\n",
        "zip_ref = zipfile.ZipFile('/content/text.zip', 'r')\n",
        "zip_ref.extractall()\n",
        "zip_ref.close()"
      ],
      "execution_count": 2,
      "outputs": []
    },
    {
      "cell_type": "code",
      "metadata": {
        "colab": {
          "base_uri": "https://localhost:8080/"
        },
        "id": "jEEmwpIJI8CZ",
        "outputId": "f1456154-18f6-48e0-c77f-bf2b457d4078"
      },
      "source": [
        "from __future__ import unicode_literals, print_function, division\n",
        "from io import open\n",
        "import glob\n",
        "import os\n",
        "\n",
        "def findFiles(path): return glob.glob(path)\n",
        "\n",
        "print(findFiles('data/names/*.txt'))\n",
        "\n",
        "import unicodedata\n",
        "import string\n",
        "\n",
        "all_letters = string.ascii_letters + \" .,;'\"\n",
        "n_letters = len(all_letters)\n",
        "\n",
        "# Turn a Unicode string to plain ASCII, thanks to https://stackoverflow.com/a/518232/2809427\n",
        "def unicodeToAscii(s):\n",
        "    return ''.join(\n",
        "        c for c in unicodedata.normalize('NFD', s)\n",
        "        if unicodedata.category(c) != 'Mn'\n",
        "        and c in all_letters\n",
        "    )\n",
        "\n",
        "print(unicodeToAscii('Ślusàrski'))\n",
        "\n",
        "# Build the category_lines dictionary, a list of names per language\n",
        "category_lines = {}\n",
        "all_categories = []\n",
        "\n",
        "# Read a file and split into lines\n",
        "def readLines(filename):\n",
        "    lines = open(filename, encoding='utf-8').read().strip().split('\\n')\n",
        "    return [unicodeToAscii(line) for line in lines]\n",
        "\n",
        "for filename in findFiles('data/names/*.txt'):\n",
        "    category = os.path.splitext(os.path.basename(filename))[0]\n",
        "    all_categories.append(category)\n",
        "    lines = readLines(filename)\n",
        "    category_lines[category] = lines\n",
        "\n",
        "n_categories = len(all_categories)"
      ],
      "execution_count": 3,
      "outputs": [
        {
          "output_type": "stream",
          "text": [
            "['data/names/Japanese.txt', 'data/names/Irish.txt', 'data/names/Arabic.txt', 'data/names/Vietnamese.txt', 'data/names/Portuguese.txt', 'data/names/Scottish.txt', 'data/names/Russian.txt', 'data/names/Korean.txt', 'data/names/Italian.txt', 'data/names/Spanish.txt', 'data/names/Chinese.txt', 'data/names/English.txt', 'data/names/German.txt', 'data/names/French.txt', 'data/names/Polish.txt', 'data/names/Dutch.txt', 'data/names/Czech.txt', 'data/names/Greek.txt']\n",
            "Slusarski\n"
          ],
          "name": "stdout"
        }
      ]
    },
    {
      "cell_type": "code",
      "metadata": {
        "id": "3F8q7ApFI8ch"
      },
      "source": [
        "import torch\n",
        "\n",
        "# Find letter index from all_letters, e.g. \"a\" = 0\n",
        "def letterToIndex(letter):\n",
        "    return all_letters.find(letter)\n",
        "\n",
        "# Just for demonstration, turn a letter into a <1 x n_letters> Tensor\n",
        "def letterToTensor(letter):\n",
        "    tensor = torch.zeros(1, n_letters)\n",
        "    tensor[0][letterToIndex(letter)] = 1\n",
        "    return tensor\n",
        "\n",
        "# Turn a line into a <line_length x 1 x n_letters>,\n",
        "# or an array of one-hot letter vectors\n",
        "def lineToTensor(line):\n",
        "    tensor = torch.zeros(len(line), 1, n_letters)\n",
        "    for li, letter in enumerate(line):\n",
        "        tensor[li][0][letterToIndex(letter)] = 1\n",
        "    return tensor"
      ],
      "execution_count": 4,
      "outputs": []
    },
    {
      "cell_type": "code",
      "metadata": {
        "id": "OBiMyWDKSEFd",
        "outputId": "9d2a9d49-d5c1-46e5-e0bc-418dbb8dd0d9",
        "colab": {
          "base_uri": "https://localhost:8080/"
        }
      },
      "source": [
        "n_categories"
      ],
      "execution_count": 5,
      "outputs": [
        {
          "output_type": "execute_result",
          "data": {
            "text/plain": [
              "18"
            ]
          },
          "metadata": {
            "tags": []
          },
          "execution_count": 5
        }
      ]
    },
    {
      "cell_type": "code",
      "metadata": {
        "id": "lX-ag8gbI_Rh"
      },
      "source": [
        "# Creating the model architecture\n",
        "\n",
        "import torch.nn as nn\n",
        "\n",
        "class RNN(nn.Module):\n",
        "    def __init__(self, input_size, hidden_size, output_size):\n",
        "        super(RNN, self).__init__()\n",
        "\n",
        "        self.hidden_size = hidden_size\n",
        "\n",
        "        self.i2h = nn.Linear(n_categories + input_size + hidden_size, hidden_size)\n",
        "        self.i2o = nn.Linear(n_categories + input_size + hidden_size, output_size)\n",
        "        self.o2o = nn.Linear(hidden_size + output_size, output_size)\n",
        "        self.dropout = nn.Dropout(0.1)  # introduce sampling variety\n",
        "        self.softmax = nn.LogSoftmax(dim=1)\n",
        "\n",
        "    def forward(self,category, input, hidden):\n",
        "        input_combined = torch.cat((category, input, hidden), 1)\n",
        "        hidden = self.i2h(input_combined)\n",
        "        output = self.i2o(input_combined)\n",
        "        output_combined = torch.cat((hidden, output), 1)\n",
        "        output = self.o2o(output_combined)\n",
        "        output = self.dropout(output)\n",
        "        output = self.softmax(output)\n",
        "        return output, hidden\n",
        "\n",
        "    def initHidden(self):\n",
        "        return torch.zeros(1, self.hidden_size)\n",
        "\n",
        "n_hidden = 128\n",
        "\n",
        "# output_size is the number of letters\n",
        "rnn = RNN(n_letters, n_hidden, n_letters)"
      ],
      "execution_count": 67,
      "outputs": []
    },
    {
      "cell_type": "code",
      "metadata": {
        "id": "0cmkWT3VLdZQ"
      },
      "source": [
        "# Setting Hyperparams\n",
        "\n",
        "criterion = nn.NLLLoss()\n",
        "learning_rate = 0.003\n",
        "optimizer = torch.optim.SGD(rnn.parameters(), lr = learning_rate)"
      ],
      "execution_count": 71,
      "outputs": []
    },
    {
      "cell_type": "code",
      "metadata": {
        "id": "G4OmRp3dRp2a"
      },
      "source": [
        "def categoryFromOutput(output):\n",
        "    top_n, top_i = output.topk(1)\n",
        "    category_i = top_i[0].item()\n",
        "    return all_categories[category_i]"
      ],
      "execution_count": null,
      "outputs": []
    },
    {
      "cell_type": "code",
      "metadata": {
        "id": "rHl5Gu_4Vl5E",
        "outputId": "ce077fc2-3594-4296-bfca-bed21809a6c6",
        "colab": {
          "base_uri": "https://localhost:8080/"
        }
      },
      "source": [
        "randomChoice(all_categories)\n",
        "index = all_categories.index('Irish')\n",
        "tensor =  torch.zeros(1,n_categories)\n",
        "tensor[0][index]=1\n",
        "type(tensor)"
      ],
      "execution_count": 23,
      "outputs": [
        {
          "output_type": "execute_result",
          "data": {
            "text/plain": [
              "torch.Tensor"
            ]
          },
          "metadata": {
            "tags": []
          },
          "execution_count": 23
        }
      ]
    },
    {
      "cell_type": "code",
      "metadata": {
        "colab": {
          "base_uri": "https://localhost:8080/"
        },
        "id": "Vo0dD_TVRnv7",
        "outputId": "b963cd67-4693-402f-f605-21a768c9df8e"
      },
      "source": [
        "import random\n",
        "\n",
        "def randomChoice(l):\n",
        "    return l[random.randint(0, len(l) - 1)]\n",
        "\n",
        "def categoryTensor(category):\n",
        "  index = all_categories.index(category)\n",
        "  tensor =  torch.zeros(1,n_categories)\n",
        "  tensor[0][index]=1\n",
        "  return tensor \n",
        "\n",
        "# why is target tensor not one-hot encoded? # e.g. tensor([20,  0, 17, 19,  4, 56])\n",
        "def targetTensor(line):\n",
        "    letter_indexes = [all_letters.find(line[li]) for li in range(1, len(line))]\n",
        "    letter_indexes.append(n_letters - 1) # EOS\n",
        "    return torch.LongTensor(letter_indexes)\n",
        "\n",
        "def randomTrainingExample():\n",
        "    category = randomChoice(all_categories)\n",
        "    line = randomChoice(category_lines[category])\n",
        "    category_tensor = categoryTensor(category)\n",
        "    line_tensor = lineToTensor(line)\n",
        "    target_tensor = targetTensor(line)\n",
        "    return category_tensor, line_tensor, target_tensor\n",
        "\n",
        "for i in range(1):\n",
        "    category_tensor, line_tensor, target_tensor = randomTrainingExample()\n",
        "    print(f' category shape : {category_tensor.shape}''\\n\\n' , f'line shape :{line_tensor.shape}' '\\n\\n', 'target shape :', target_tensor.shape)\n"
      ],
      "execution_count": 65,
      "outputs": [
        {
          "output_type": "stream",
          "text": [
            " category shape : torch.Size([1, 18])\n",
            "\n",
            " line shape :torch.Size([8, 1, 57])\n",
            "\n",
            " target shape : torch.Size([8])\n"
          ],
          "name": "stdout"
        }
      ]
    },
    {
      "cell_type": "code",
      "metadata": {
        "id": "Kzuwk8JubG1Z",
        "outputId": "1b3ef741-d4ac-44a9-df8f-2f961419c5dd",
        "colab": {
          "base_uri": "https://localhost:8080/"
        }
      },
      "source": [
        "len(input_tensor)"
      ],
      "execution_count": 54,
      "outputs": [
        {
          "output_type": "execute_result",
          "data": {
            "text/plain": [
              "6"
            ]
          },
          "metadata": {
            "tags": []
          },
          "execution_count": 54
        }
      ]
    },
    {
      "cell_type": "code",
      "metadata": {
        "id": "V2N4WppDMZaS"
      },
      "source": [
        "# training loop\n",
        "\n",
        "def train(input_tensor,category_tensor, target_tensor):\n",
        "  hidden = rnn.initHidden()\n",
        "  target_tensor.unsqueeze_(-1)\n",
        "  loss = 0 \n",
        "\n",
        "  for i in range(len(input_tensor)):\n",
        "    output, hidden = rnn(category_tensor, input_tensor[i], hidden)\n",
        "\n",
        "    # calculate loss at every step \n",
        "    l = criterion(output, target_tensor[i])\n",
        "\n",
        "    loss += l\n",
        "\n",
        "  optimizer.zero_grad()\n",
        "  loss.backward()\n",
        "  optimizer.step()\n",
        "\n",
        "  return output, loss.item()/len(input_tensor)\n",
        "\n"
      ],
      "execution_count": 69,
      "outputs": []
    },
    {
      "cell_type": "code",
      "metadata": {
        "colab": {
          "base_uri": "https://localhost:8080/"
        },
        "id": "fY34b3xYNsNt",
        "outputId": "5eb8fa69-ba2f-4f07-8661-d8eeee593101"
      },
      "source": [
        "# Initialise training \n",
        "\n",
        "current_loss = 0 \n",
        "all_losses = []\n",
        "plot_steps, print_steps = 500,5000\n",
        "n_iters = 100000\n",
        "\n",
        "for i in range(1,n_iters+1):\n",
        "  category_tensor, line_tensor, target_tensor = randomTrainingExample()\n",
        "  output, loss = train(line_tensor, category_tensor, target_tensor)\n",
        "  \n",
        "  current_loss += loss\n",
        "\n",
        "  if (i) % plot_steps == 0:\n",
        "    all_losses.append(current_loss/plot_steps)\n",
        "    current_loss = 0\n",
        "  \n",
        "  if i % print_steps == 0:\n",
        "    print(f'Epoch {i}: {loss:.4f}')\n",
        "\n",
        "\n"
      ],
      "execution_count": 73,
      "outputs": [
        {
          "output_type": "stream",
          "text": [
            "Epoch 5000: 1.8368\n",
            "Epoch 10000: 2.6321\n",
            "Epoch 15000: 2.1361\n",
            "Epoch 20000: 2.9380\n",
            "Epoch 25000: 2.0281\n",
            "Epoch 30000: 2.1403\n",
            "Epoch 35000: 1.8933\n",
            "Epoch 40000: 2.1772\n",
            "Epoch 45000: 2.5434\n",
            "Epoch 50000: 2.5400\n",
            "Epoch 55000: 2.7693\n",
            "Epoch 60000: 1.9466\n",
            "Epoch 65000: 2.6152\n",
            "Epoch 70000: 2.8913\n",
            "Epoch 75000: 2.1198\n",
            "Epoch 80000: 2.6004\n",
            "Epoch 85000: 2.1758\n",
            "Epoch 90000: 1.8245\n",
            "Epoch 95000: 3.2798\n",
            "Epoch 100000: 3.1965\n"
          ],
          "name": "stdout"
        }
      ]
    },
    {
      "cell_type": "code",
      "metadata": {
        "colab": {
          "base_uri": "https://localhost:8080/",
          "height": 284
        },
        "id": "jiOi6dhWTcNF",
        "outputId": "38fe3509-07dc-40de-deb1-932e03ac344b"
      },
      "source": [
        "import matplotlib.pyplot as plt\n",
        "\n",
        "plt.figure()\n",
        "plt.plot(all_losses)"
      ],
      "execution_count": 74,
      "outputs": [
        {
          "output_type": "execute_result",
          "data": {
            "text/plain": [
              "[<matplotlib.lines.Line2D at 0x7fa9bdbd1250>]"
            ]
          },
          "metadata": {
            "tags": []
          },
          "execution_count": 74
        },
        {
          "output_type": "display_data",
          "data": {
            "image/png": "[encoded data removed]",
            "text/plain": [
              "<Figure size 432x288 with 1 Axes>"
            ]
          },
          "metadata": {
            "tags": [],
            "needs_background": "light"
          }
        }
      ]
    },
    {
      "cell_type": "code",
      "metadata": {
        "id": "u9iYVbw1T-ta"
      },
      "source": [
        "max_length = 20\n",
        "\n",
        "# Sample from a category and starting letter\n",
        "def sample(category, start_letter='A'):\n",
        "    with torch.no_grad():  # no need to track history in sampling\n",
        "        category_tensor = categoryTensor(category)\n",
        "        input = inputTensor(start_letter)\n",
        "        hidden = rnn.initHidden()\n",
        "\n",
        "        output_name = start_letter\n",
        "\n",
        "        for i in range(max_length):\n",
        "            output, hidden = rnn(category_tensor, input[0], hidden)\n",
        "            topv, topi = output.topk(1)\n",
        "            topi = topi[0][0]\n",
        "            if topi == n_letters - 1:\n",
        "                break\n",
        "            else:\n",
        "                letter = all_letters[topi]\n",
        "                output_name += letter\n",
        "            input = inputTensor(letter)\n",
        "\n",
        "        return output_name\n",
        "\n",
        "# Get multiple samples from one category and multiple starting letters\n",
        "def samples(category, start_letters='ABC'):\n",
        "    for start_letter in start_letters:\n",
        "        print(sample(category, start_letter))\n",
        "\n",
        "samples('Russian', 'RUS')\n",
        "\n",
        "samples('German', 'GER')\n",
        "\n",
        "samples('Spanish', 'SPA')\n",
        "\n",
        "samples('Chinese', 'CHI')"
      ],
      "execution_count": null,
      "outputs": []
    },
    {
      "cell_type": "code",
      "metadata": {
        "colab": {
          "base_uri": "https://localhost:8080/"
        },
        "id": "pLOJm5QBVUR6",
        "outputId": "ec547c9b-37d2-4616-d318-d657abd4d869"
      },
      "source": [
        "predict('Xiao Cai')"
      ],
      "execution_count": null,
      "outputs": [
        {
          "output_type": "stream",
          "text": [
            "\n",
            " >Xiao Cai\n",
            "Japanese\n"
          ],
          "name": "stdout"
        }
      ]
    }
  ]
}